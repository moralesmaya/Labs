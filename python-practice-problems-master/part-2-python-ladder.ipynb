{
 "cells": [
  {
   "cell_type": "markdown",
   "metadata": {},
   "source": [
    "<img src=\"http://imgur.com/1ZcRyrc.png\" style=\"float: left; margin: 20px; height: 55px\" />\n",
    "\n",
    "# Python Ladder Challenge - Notebook 2\n",
    "\n",
    "_Author:_ Tim Book"
   ]
  },
  {
   "cell_type": "markdown",
   "metadata": {},
   "source": [
    "# Climb the Ladder!\n",
    "Our class moves quickly! Sometimes, it feels like we make leaps in logic that are a bit too big. Learn Python _slowly_, by doing many, many examples. Problems in this notebook start out easy and progressively get harder, so that the next rung of the Python ladder is always within reach."
   ]
  },
  {
   "cell_type": "markdown",
   "metadata": {},
   "source": [
    "# Section IV: Conditionals and Loops"
   ]
  },
  {
   "cell_type": "markdown",
   "metadata": {},
   "source": [
    "34) Print out the numbers 1 through 10."
   ]
  },
  {
   "cell_type": "code",
   "execution_count": 8,
   "metadata": {},
   "outputs": [
    {
     "data": {
      "text/plain": [
       "[1, 2, 3, 4, 5, 6, 7, 8, 9, 10]"
      ]
     },
     "execution_count": 8,
     "metadata": {},
     "output_type": "execute_result"
    }
   ],
   "source": [
    "[x for x in range(1,11)]"
   ]
  },
  {
   "cell_type": "markdown",
   "metadata": {},
   "source": [
    "35) Print out the odd numbers between 1 and 20 by using the third paramter to the `range()` function."
   ]
  },
  {
   "cell_type": "code",
   "execution_count": 9,
   "metadata": {},
   "outputs": [
    {
     "data": {
      "text/plain": [
       "[1, 3, 5, 7, 9, 11, 13, 15, 17, 19]"
      ]
     },
     "execution_count": 9,
     "metadata": {},
     "output_type": "execute_result"
    }
   ],
   "source": [
    "[x for x in range(1,21,2)]"
   ]
  },
  {
   "cell_type": "markdown",
   "metadata": {},
   "source": [
    "36) Print out the odd numbers between 1 and 20 by checking if the number is even before printing."
   ]
  },
  {
   "cell_type": "code",
   "execution_count": 10,
   "metadata": {},
   "outputs": [
    {
     "name": "stdout",
     "output_type": "stream",
     "text": [
      "1\n",
      "3\n",
      "5\n",
      "7\n",
      "9\n",
      "11\n",
      "13\n",
      "15\n",
      "17\n",
      "19\n"
     ]
    }
   ],
   "source": [
    "for x in range(1,21):\n",
    "    if x % 2 != 0: \n",
    "        print(x)"
   ]
  },
  {
   "cell_type": "markdown",
   "metadata": {},
   "source": [
    "37) What is the sum of the first 100 integers? Hint: Create a variable `total` equal to zero, and increment `total` inside a loop."
   ]
  },
  {
   "cell_type": "code",
   "execution_count": 15,
   "metadata": {},
   "outputs": [
    {
     "data": {
      "text/plain": [
       "4950"
      ]
     },
     "execution_count": 15,
     "metadata": {},
     "output_type": "execute_result"
    }
   ],
   "source": [
    "my_list = [x for x in range(1, 100)]\n",
    "\n",
    "total = 0 \n",
    "\n",
    "for number in my_list: \n",
    "    total += number\n",
    "    \n",
    "total"
   ]
  },
  {
   "cell_type": "markdown",
   "metadata": {},
   "source": [
    "38) For each friend in your `friends` list, print `\"PERSON IS AWESOME!\"` in all caps, where `PERSON` is of course replaced with your friend's name."
   ]
  },
  {
   "cell_type": "code",
   "execution_count": 20,
   "metadata": {},
   "outputs": [],
   "source": [
    "friends = [\"Alice\", \"Bob\", \"Charlie\", \"Debbie\"]"
   ]
  },
  {
   "cell_type": "code",
   "execution_count": 21,
   "metadata": {},
   "outputs": [
    {
     "name": "stdout",
     "output_type": "stream",
     "text": [
      "ALICE IS AWESOME!\n",
      "BOB IS AWESOME!\n",
      "CHARLIE IS AWESOME!\n",
      "DEBBIE IS AWESOME!\n"
     ]
    }
   ],
   "source": [
    "for name in friends:\n",
    "    print(f'{name.upper()} IS AWESOME!')"
   ]
  },
  {
   "cell_type": "markdown",
   "metadata": {},
   "source": [
    "39) Similar to the last problem, print `\"PERSON IS AWESOME!\"` for each friend in your friends list _only if their name ends in a vowel_. Otherwise, print `\"person is ok...\"` (all lowercase). "
   ]
  },
  {
   "cell_type": "code",
   "execution_count": 40,
   "metadata": {},
   "outputs": [
    {
     "name": "stdout",
     "output_type": "stream",
     "text": [
      "ALICE IS AWESOME!\n",
      "Bob is ok...\n",
      "CHARLIE IS AWESOME!\n",
      "DEBBIE IS AWESOME!\n"
     ]
    }
   ],
   "source": [
    "for name in friends: \n",
    "    if name[-1] in 'aeiouy':\n",
    "        print(f'{name.upper()} IS AWESOME!')\n",
    "    else: \n",
    "        print(f'{name} is ok...')"
   ]
  },
  {
   "cell_type": "markdown",
   "metadata": {},
   "source": [
    "40) For each number between 1 and 30, if a number is divisible by 3, print `\"Fizz\"`. Otherwise, just print the number."
   ]
  },
  {
   "cell_type": "code",
   "execution_count": 41,
   "metadata": {},
   "outputs": [
    {
     "name": "stdout",
     "output_type": "stream",
     "text": [
      "1\n",
      "2\n",
      "Fizz\n",
      "4\n",
      "5\n",
      "Fizz\n",
      "7\n",
      "8\n",
      "Fizz\n",
      "10\n",
      "11\n",
      "Fizz\n",
      "13\n",
      "14\n",
      "Fizz\n",
      "16\n",
      "17\n",
      "Fizz\n",
      "19\n",
      "20\n",
      "Fizz\n",
      "22\n",
      "23\n",
      "Fizz\n",
      "25\n",
      "26\n",
      "Fizz\n",
      "28\n",
      "29\n",
      "Fizz\n"
     ]
    }
   ],
   "source": [
    "for number in range(1,31):\n",
    "    if number % 3 == 0: \n",
    "        print('Fizz')\n",
    "    else: \n",
    "        print(number)"
   ]
  },
  {
   "cell_type": "markdown",
   "metadata": {},
   "source": [
    "41) For each number between 1 and 30, if a number is divisible by 5, print `\"Buzz\"`. Otherwise, just print the number."
   ]
  },
  {
   "cell_type": "code",
   "execution_count": 42,
   "metadata": {},
   "outputs": [
    {
     "name": "stdout",
     "output_type": "stream",
     "text": [
      "1\n",
      "2\n",
      "3\n",
      "4\n",
      "Buzz\n",
      "6\n",
      "7\n",
      "8\n",
      "9\n",
      "Buzz\n",
      "11\n",
      "12\n",
      "13\n",
      "14\n",
      "Buzz\n",
      "16\n",
      "17\n",
      "18\n",
      "19\n",
      "Buzz\n",
      "21\n",
      "22\n",
      "23\n",
      "24\n",
      "Buzz\n",
      "26\n",
      "27\n",
      "28\n",
      "29\n",
      "Buzz\n"
     ]
    }
   ],
   "source": [
    "for number in range(1,31): \n",
    "    if number % 5 == 0: \n",
    "        print('Buzz')\n",
    "    else: \n",
    "        print(number)"
   ]
  },
  {
   "cell_type": "markdown",
   "metadata": {},
   "source": [
    "42) **FIZZBUZZ!** For each number between 1 and 30,\n",
    "* if a number is divisible by 3, print `\"Fizz\"`\n",
    "* if a number is divisible by 5, print `\"Buzz\"`\n",
    "* if a number is divisible by both 3 and 5, instead print `\"Fizzbuzz\"`,\n",
    "* otherwise, just print the number\n",
    "\n",
    "This problem is the famous \"Fizzbuzz\" problem - and is a very common interview coding challenge! If you can do this without help, you're making awesome progress! Well done!"
   ]
  },
  {
   "cell_type": "code",
   "execution_count": 50,
   "metadata": {},
   "outputs": [
    {
     "name": "stdout",
     "output_type": "stream",
     "text": [
      "1\n",
      "2\n",
      "Fizz\n",
      "4\n",
      "Buzz\n",
      "Fizz\n",
      "7\n",
      "8\n",
      "Fizz\n",
      "Buzz\n",
      "11\n",
      "Fizz\n",
      "13\n",
      "14\n",
      "Fizzbuzz\n",
      "16\n",
      "17\n",
      "Fizz\n",
      "19\n",
      "Buzz\n",
      "Fizz\n",
      "22\n",
      "23\n",
      "Fizz\n",
      "Buzz\n",
      "26\n",
      "Fizz\n",
      "28\n",
      "29\n",
      "Fizzbuzz\n"
     ]
    }
   ],
   "source": [
    "for number in range(1,31): \n",
    "    if number % 5 == 0 and number % 3 == 0: \n",
    "        print(\"Fizzbuzz\")\n",
    "    elif number % 5 == 0: \n",
    "        print(\"Buzz\")\n",
    "    elif number % 3 == 0: \n",
    "        print(\"Fizz\")\n",
    "    else: \n",
    "        print(number)"
   ]
  },
  {
   "cell_type": "markdown",
   "metadata": {},
   "source": [
    "43) Define some string `sentence`. If you can't think of a good one, feel free to use `fact` from the previous notebook."
   ]
  },
  {
   "cell_type": "code",
   "execution_count": 51,
   "metadata": {},
   "outputs": [],
   "source": [
    "sentence = 'Hello just practicing python'"
   ]
  },
  {
   "cell_type": "markdown",
   "metadata": {},
   "source": [
    "44) Count the number of vowels in `sentence` (no, y is not a vowel).\n",
    "* _Hint:_ What happens if you loop through a string?"
   ]
  },
  {
   "cell_type": "code",
   "execution_count": 53,
   "metadata": {},
   "outputs": [],
   "source": [
    "vowel_count = 0 \n",
    "\n",
    "for letter in sentence: \n",
    "    if letter in 'aeiou':\n",
    "        vowel_count += 1"
   ]
  },
  {
   "cell_type": "code",
   "execution_count": 54,
   "metadata": {},
   "outputs": [
    {
     "data": {
      "text/plain": [
       "7"
      ]
     },
     "execution_count": 54,
     "metadata": {},
     "output_type": "execute_result"
    }
   ],
   "source": [
    "vowel_count"
   ]
  },
  {
   "cell_type": "markdown",
   "metadata": {},
   "source": [
    "45) Define a variable `sentence_rm` that is equal to `sentence` with all vowels removed. \n",
    "* _Hint:_ This is a tough one. Start out with an empty string and concatenate all of the consonants to it inside a loop."
   ]
  },
  {
   "cell_type": "code",
   "execution_count": 56,
   "metadata": {},
   "outputs": [
    {
     "data": {
      "text/plain": [
       "'Hll jst prctcng pythn'"
      ]
     },
     "execution_count": 56,
     "metadata": {},
     "output_type": "execute_result"
    }
   ],
   "source": [
    "sentence_rm = ''\n",
    "\n",
    "for letter in sentence: \n",
    "    if letter not in 'aeiou':\n",
    "        sentence_rm += letter\n",
    "sentence_rm"
   ]
  },
  {
   "cell_type": "markdown",
   "metadata": {},
   "source": [
    "46) Create a variable `fav_number` equal to whatever is your favorite integer. Write a loop to determine if `fav_number` is prime. Recall that a prime number is any number whose only divisors are 1 and itself. For example, 6 is not prime since it's divisible by 1, 2, 3, and 6. But 7 _is_ prime since it's only divisible by 1 and 7."
   ]
  },
  {
   "cell_type": "code",
   "execution_count": 66,
   "metadata": {},
   "outputs": [
    {
     "name": "stdout",
     "output_type": "stream",
     "text": [
      "11 is a prime number\n"
     ]
    }
   ],
   "source": [
    "num = 11 \n",
    "\n",
    "# If given number is greater than 1\n",
    "if num > 1:\n",
    " \n",
    "    # Iterate from 2 to n / 2\n",
    "    for i in range(2, int(num/2)+1):\n",
    " \n",
    "        # If num is divisible by any number between\n",
    "        # 2 and n / 2, it is not prime\n",
    "        if (num % i) == 0:\n",
    "            print(num, \"is not a prime number\")\n",
    "            break\n",
    "    else:\n",
    "        print(num, \"is a prime number\")\n",
    "else:\n",
    "    print(num, \"is not a prime number\")"
   ]
  },
  {
   "cell_type": "markdown",
   "metadata": {},
   "source": [
    "47) A palindromic number reads the same both ways. For example, 1234321 is a palindrome. Write an `if` statement to test whether or not a number is palindromic."
   ]
  },
  {
   "cell_type": "code",
   "execution_count": 74,
   "metadata": {},
   "outputs": [
    {
     "name": "stdout",
     "output_type": "stream",
     "text": [
      "String is palindrome\n"
     ]
    }
   ],
   "source": [
    "num = 1234321\n",
    "\n",
    "if str(num)[::-1] == str(num): \n",
    "    print('String is palindrome')\n",
    "else: \n",
    "    print('String is not palindrome')"
   ]
  },
  {
   "cell_type": "markdown",
   "metadata": {},
   "source": [
    "48) Find the largest palindrome made from the product of two two-digit numbers.\n",
    "* _Tip:_ Do not worry about the \"efficiency\" of your answer! The easiest answer is very inefficient."
   ]
  },
  {
   "cell_type": "code",
   "execution_count": 75,
   "metadata": {},
   "outputs": [],
   "source": [
    "largest_product = 0 \n",
    "\n",
    "for i in range(10,100): \n",
    "    for x in range(10, 100): \n",
    "        if str(i * x)[::-1] == str(i * x):\n",
    "            largest_product = (i * x)\n",
    "            if (i * x) > largest_product: \n",
    "                lagest_product = (i * x)\n",
    "            "
   ]
  },
  {
   "cell_type": "code",
   "execution_count": 76,
   "metadata": {},
   "outputs": [
    {
     "data": {
      "text/plain": [
       "9009"
      ]
     },
     "execution_count": 76,
     "metadata": {},
     "output_type": "execute_result"
    }
   ],
   "source": [
    "largest_product"
   ]
  },
  {
   "cell_type": "markdown",
   "metadata": {},
   "source": [
    "# Section V: List Comprehensions\n",
    "\n",
    "**Disclaimer:** Many (maybe all) of these exercises can be done without a list comprehension. However, listcomps are often the easiest way to solve a problem like this. Listcomps are also optimized in Python, meaning they are also often the _fastest_ way to solve a problem. In fact, **every problem in this section can be solved in one line of code!**"
   ]
  },
  {
   "cell_type": "markdown",
   "metadata": {},
   "source": [
    "49) Create a list of the numbers 1 through 10."
   ]
  },
  {
   "cell_type": "code",
   "execution_count": 77,
   "metadata": {},
   "outputs": [
    {
     "data": {
      "text/plain": [
       "[1, 2, 3, 4, 5, 6, 7, 8, 9, 10]"
      ]
     },
     "execution_count": 77,
     "metadata": {},
     "output_type": "execute_result"
    }
   ],
   "source": [
    "[x for x in range(1,11)]"
   ]
  },
  {
   "cell_type": "markdown",
   "metadata": {},
   "source": [
    "50) Create a list of the squares of the numbers between 1 and 10."
   ]
  },
  {
   "cell_type": "code",
   "execution_count": 79,
   "metadata": {},
   "outputs": [
    {
     "data": {
      "text/plain": [
       "[1, 4, 9, 16, 25, 36, 49, 64, 81, 100]"
      ]
     },
     "execution_count": 79,
     "metadata": {},
     "output_type": "execute_result"
    }
   ],
   "source": [
    "[x ** 2 for x in range(1,11)]"
   ]
  },
  {
   "cell_type": "markdown",
   "metadata": {},
   "source": [
    "51) Create a list of all the even numbers between 18 and 47."
   ]
  },
  {
   "cell_type": "code",
   "execution_count": 81,
   "metadata": {},
   "outputs": [
    {
     "data": {
      "text/plain": [
       "[18, 20, 22, 24, 26, 28, 30, 32, 34, 36, 38, 40, 42, 44, 46]"
      ]
     },
     "execution_count": 81,
     "metadata": {},
     "output_type": "execute_result"
    }
   ],
   "source": [
    "[x for x in range(18,48) if x % 2 == 0]"
   ]
  },
  {
   "cell_type": "markdown",
   "metadata": {},
   "source": [
    "52) Create a list of the squares of the even numbers between 1 and 20."
   ]
  },
  {
   "cell_type": "code",
   "execution_count": 83,
   "metadata": {},
   "outputs": [
    {
     "data": {
      "text/plain": [
       "[16, 25, 64, 81, 144, 169, 256, 289, 400]"
      ]
     },
     "execution_count": 83,
     "metadata": {},
     "output_type": "execute_result"
    }
   ],
   "source": [
    "[x ** 2 for x in range(1,21) if x & 2 == 0 and x != 1]"
   ]
  },
  {
   "cell_type": "markdown",
   "metadata": {},
   "source": [
    "53) What is the sum of the cubes of the numbers between 7 and 37?"
   ]
  },
  {
   "cell_type": "code",
   "execution_count": 85,
   "metadata": {},
   "outputs": [
    {
     "data": {
      "text/plain": [
       "493768"
      ]
     },
     "execution_count": 85,
     "metadata": {},
     "output_type": "execute_result"
    }
   ],
   "source": [
    "sum([x ** 3 for x in range(7, 38)])"
   ]
  },
  {
   "cell_type": "markdown",
   "metadata": {},
   "source": [
    "54) Create a list of all of the numbers divisible by either 3 or 5 (or both) between 1 and 30."
   ]
  },
  {
   "cell_type": "code",
   "execution_count": 86,
   "metadata": {},
   "outputs": [
    {
     "data": {
      "text/plain": [
       "[3, 5, 6, 9, 10, 12, 15, 18, 20, 21, 24, 25, 27, 30]"
      ]
     },
     "execution_count": 86,
     "metadata": {},
     "output_type": "execute_result"
    }
   ],
   "source": [
    "[x for x in range(1,31) if x % 5 == 0 or x % 3 == 0]"
   ]
  },
  {
   "cell_type": "markdown",
   "metadata": {},
   "source": [
    "55) Redefine this list to be all uppercase."
   ]
  },
  {
   "cell_type": "code",
   "execution_count": 87,
   "metadata": {},
   "outputs": [],
   "source": [
    "friends = [\"Alice\", \"Bob\", \"Charlie\", \"Derek\"]"
   ]
  },
  {
   "cell_type": "code",
   "execution_count": 88,
   "metadata": {},
   "outputs": [
    {
     "data": {
      "text/plain": [
       "['ALICE', 'BOB', 'CHARLIE', 'DEREK']"
      ]
     },
     "execution_count": 88,
     "metadata": {},
     "output_type": "execute_result"
    }
   ],
   "source": [
    "[x.upper() for x in friends]"
   ]
  },
  {
   "cell_type": "markdown",
   "metadata": {},
   "source": [
    "56) Remove all elements from `friends` whose names do not end in a vowel."
   ]
  },
  {
   "cell_type": "code",
   "execution_count": 90,
   "metadata": {},
   "outputs": [
    {
     "data": {
      "text/plain": [
       "['Alice', 'Charlie']"
      ]
     },
     "execution_count": 90,
     "metadata": {},
     "output_type": "execute_result"
    }
   ],
   "source": [
    "[x for x in friends if x[-1] in 'aeiou']"
   ]
  },
  {
   "cell_type": "markdown",
   "metadata": {},
   "source": [
    "57) Take the `sentence` you used earlier and remove the vowels again. This time, using a one-line list comprehension.\n",
    "\n",
    "* _Hint:_ You'll find the `.join()` method to be useful here."
   ]
  },
  {
   "cell_type": "code",
   "execution_count": 91,
   "metadata": {},
   "outputs": [
    {
     "data": {
      "text/plain": [
       "'Hello just practicing python'"
      ]
     },
     "execution_count": 91,
     "metadata": {},
     "output_type": "execute_result"
    }
   ],
   "source": [
    "sentence"
   ]
  },
  {
   "cell_type": "code",
   "execution_count": 104,
   "metadata": {},
   "outputs": [
    {
     "data": {
      "text/plain": [
       "'Hll jst prctcng pythn'"
      ]
     },
     "execution_count": 104,
     "metadata": {},
     "output_type": "execute_result"
    }
   ],
   "source": [
    "\"\".join([x for x in sentence if x not in 'aeiou'])"
   ]
  },
  {
   "cell_type": "markdown",
   "metadata": {},
   "source": [
    "58) You need to access Excel files that have names like `Jan 5.xlsx` or `Mar 15.xlsx`. Create a list of January 1 through January 31 like this. That is, create the list of: `[\"Jan 1.xlsx\", \"Jan 2.xlsx\", ... , \"Jan 31.xlsx\"]`."
   ]
  },
  {
   "cell_type": "code",
   "execution_count": 108,
   "metadata": {},
   "outputs": [
    {
     "data": {
      "text/plain": [
       "['Jan1.xlsx',\n",
       " 'Jan2.xlsx',\n",
       " 'Jan3.xlsx',\n",
       " 'Jan4.xlsx',\n",
       " 'Jan5.xlsx',\n",
       " 'Jan6.xlsx',\n",
       " 'Jan7.xlsx',\n",
       " 'Jan8.xlsx',\n",
       " 'Jan9.xlsx',\n",
       " 'Jan10.xlsx',\n",
       " 'Jan11.xlsx',\n",
       " 'Jan12.xlsx',\n",
       " 'Jan13.xlsx',\n",
       " 'Jan14.xlsx',\n",
       " 'Jan15.xlsx',\n",
       " 'Jan16.xlsx',\n",
       " 'Jan17.xlsx',\n",
       " 'Jan18.xlsx',\n",
       " 'Jan19.xlsx',\n",
       " 'Jan20.xlsx',\n",
       " 'Jan21.xlsx',\n",
       " 'Jan22.xlsx',\n",
       " 'Jan23.xlsx',\n",
       " 'Jan24.xlsx',\n",
       " 'Jan25.xlsx',\n",
       " 'Jan26.xlsx',\n",
       " 'Jan27.xlsx',\n",
       " 'Jan28.xlsx',\n",
       " 'Jan29.xlsx',\n",
       " 'Jan30.xlsx',\n",
       " 'Jan31.xlsx']"
      ]
     },
     "execution_count": 108,
     "metadata": {},
     "output_type": "execute_result"
    }
   ],
   "source": [
    "[f'Jan{x}.xlsx' for x in range(1,32)]"
   ]
  },
  {
   "cell_type": "markdown",
   "metadata": {},
   "source": [
    "59) Below is a list of amounts in euros. Create a new list, `dollars`, which is these amounts converted to U.S. dollars. There are 1.1 dollars per euro."
   ]
  },
  {
   "cell_type": "code",
   "execution_count": 109,
   "metadata": {},
   "outputs": [],
   "source": [
    "euros = [4.50, 6.70, 3.25, 9.99, 12.75, 0.35]"
   ]
  },
  {
   "cell_type": "code",
   "execution_count": 110,
   "metadata": {},
   "outputs": [
    {
     "data": {
      "text/plain": [
       "[4.95, 7.370000000000001, 3.575, 10.989, 14.025, 0.385]"
      ]
     },
     "execution_count": 110,
     "metadata": {},
     "output_type": "execute_result"
    }
   ],
   "source": [
    "dollars = [x * 1.1 for x in euros]\n",
    "\n",
    "dollars"
   ]
  },
  {
   "cell_type": "markdown",
   "metadata": {},
   "source": [
    "60) Below is a list of heights in inches. In order to ride a roller coaster, you must be at least 5 feet tall (60 inches). Filter this list to be _only_ those heights tall enough to ride."
   ]
  },
  {
   "cell_type": "code",
   "execution_count": 111,
   "metadata": {},
   "outputs": [],
   "source": [
    "heights = [71, 48, 55, 65, 68, 60, 58, 53]"
   ]
  },
  {
   "cell_type": "code",
   "execution_count": 112,
   "metadata": {},
   "outputs": [
    {
     "data": {
      "text/plain": [
       "[71, 65, 68]"
      ]
     },
     "execution_count": 112,
     "metadata": {},
     "output_type": "execute_result"
    }
   ],
   "source": [
    "tall_enough = [x for x in heights if x > 60]\n",
    "\n",
    "tall_enough"
   ]
  },
  {
   "cell_type": "markdown",
   "metadata": {},
   "source": [
    "61) Repeat the above exercise, except replace the lower heights with a `None` instead of dropping them.\n",
    "* _Hint:_ Python has an in-line `if` statement, sometimes called a _ternary operator_ that you might find useful here. For example:\n",
    "\n",
    "```\n",
    "print(\"Tall enough\" if 72 > 60 else \"Too short\")\n",
    "print(\"Tall enough\" if 52 > 60 else \"Too short\")\n",
    "```"
   ]
  },
  {
   "cell_type": "code",
   "execution_count": 121,
   "metadata": {},
   "outputs": [
    {
     "data": {
      "text/plain": [
       "[71, 'None', 'None', 65, 68, 'None', 'None', 'None']"
      ]
     },
     "execution_count": 121,
     "metadata": {},
     "output_type": "execute_result"
    }
   ],
   "source": [
    "[x if x > 60 else \"None\" for x in heights]"
   ]
  },
  {
   "cell_type": "markdown",
   "metadata": {},
   "source": [
    "62) Here are more heights below. However, this time, the information is contained in a dictionary. Create a list of the names _and ONLY the names_ of the people who are tall enough to ride the roller coaster.\n",
    "\n",
    "* _Hint:_ How can you loop through a dictionary?"
   ]
  },
  {
   "cell_type": "code",
   "execution_count": 122,
   "metadata": {},
   "outputs": [],
   "source": [
    "people = {\n",
    "    \"Aaron\": 58,\n",
    "    \"Barbara\": 66,\n",
    "    \"Clarence\": 62,\n",
    "    \"Donovan\": 55,\n",
    "    \"Erika\": 70,\n",
    "    \"Fernando\": 72\n",
    "}"
   ]
  },
  {
   "cell_type": "code",
   "execution_count": 125,
   "metadata": {},
   "outputs": [
    {
     "data": {
      "text/plain": [
       "['Barbara', 'Clarence', 'Erika', 'Fernando']"
      ]
     },
     "execution_count": 125,
     "metadata": {},
     "output_type": "execute_result"
    }
   ],
   "source": [
    "[x for x in people.keys() if people[x] > 60]"
   ]
  },
  {
   "cell_type": "markdown",
   "metadata": {},
   "source": [
    "63) Below we have some more data on our classmates. This time, the dictionary values are test scores. A student's final grade is their _maximum_ score on these three tests. Create a list of the students' final grades."
   ]
  },
  {
   "cell_type": "code",
   "execution_count": 130,
   "metadata": {},
   "outputs": [],
   "source": [
    "people = {\n",
    "    \"Aaron\": [87, 52, 78],\n",
    "    \"Barbara\": [92, 79, 85],\n",
    "    \"Clarence\": [42, 68, 55],\n",
    "    \"Donovan\": [95, 100, 87],\n",
    "    \"Erika\": [62, 88, 47],\n",
    "    \"Fernando\": [84, 99, 0]\n",
    "}"
   ]
  },
  {
   "cell_type": "code",
   "execution_count": 135,
   "metadata": {},
   "outputs": [
    {
     "data": {
      "text/plain": [
       "[87, 92, 68, 100, 88, 99]"
      ]
     },
     "execution_count": 135,
     "metadata": {},
     "output_type": "execute_result"
    }
   ],
   "source": [
    "[max(x) for x in people.values()]"
   ]
  },
  {
   "cell_type": "markdown",
   "metadata": {},
   "source": [
    "64) Repeat the above problem, except create a _dictionary_ of the final scores, where the dictionary keys are the names, and the dictionary values are the final grade.\n",
    "\n",
    "* _Hint:_ You can do **dictionary comprehension** to solve this problem! Yes, it exists!"
   ]
  },
  {
   "cell_type": "code",
   "execution_count": 139,
   "metadata": {},
   "outputs": [
    {
     "data": {
      "text/plain": [
       "{'Aaron': 87,\n",
       " 'Barbara': 92,\n",
       " 'Clarence': 68,\n",
       " 'Donovan': 100,\n",
       " 'Erika': 88,\n",
       " 'Fernando': 99}"
      ]
     },
     "execution_count": 139,
     "metadata": {},
     "output_type": "execute_result"
    }
   ],
   "source": [
    "final_scores = {k:max(v) for k,v in people.items()}\n",
    "\n",
    "final_scores"
   ]
  },
  {
   "cell_type": "markdown",
   "metadata": {},
   "source": [
    "65) Using the two lists defined below, create the following resulting list:\n",
    "\n",
    "`[\"AZ\", \"BY\", \"CX\", \"DW\", \"EV\"]`\n",
    "\n",
    "* _Hint:_ Check out the `zip()` function."
   ]
  },
  {
   "cell_type": "code",
   "execution_count": 140,
   "metadata": {},
   "outputs": [],
   "source": [
    "letters_a = [\"A\", \"B\", \"C\", \"D\", \"E\"]\n",
    "letters_z = [\"Z\", \"Y\", \"X\", \"W\", \"V\"]"
   ]
  },
  {
   "cell_type": "code",
   "execution_count": 150,
   "metadata": {},
   "outputs": [
    {
     "data": {
      "text/plain": [
       "['AZ', 'BY', 'CX', 'DW', 'EV']"
      ]
     },
     "execution_count": 150,
     "metadata": {},
     "output_type": "execute_result"
    }
   ],
   "source": [
    "[''.join(x) for x in zip(letters_a, letters_z)]\n"
   ]
  },
  {
   "cell_type": "markdown",
   "metadata": {},
   "source": [
    "66) Using `letters_a` defined in the previous problem, create the following list:\n",
    "\n",
    "```\n",
    "[\n",
    "    \"A is letter 1 of the alphabet\",\n",
    "    \"B is letter 2 of the alphabet\",\n",
    "    ...\n",
    "]\n",
    "```\n",
    "\n",
    "* _Hint:_ Checkout the `enumerate()` function."
   ]
  },
  {
   "cell_type": "code",
   "execution_count": 156,
   "metadata": {},
   "outputs": [
    {
     "data": {
      "text/plain": [
       "['A is letter 1 of the alphabet',\n",
       " 'B is letter 2 of the alphabet',\n",
       " 'C is letter 3 of the alphabet',\n",
       " 'D is letter 4 of the alphabet',\n",
       " 'E is letter 5 of the alphabet']"
      ]
     },
     "execution_count": 156,
     "metadata": {},
     "output_type": "execute_result"
    }
   ],
   "source": [
    "[f'{x} is letter {i + 1} of the alphabet' for i, x in enumerate(letters_a)]"
   ]
  },
  {
   "cell_type": "markdown",
   "metadata": {},
   "source": [
    "# Section VI: Libraries, imports and some more math!"
   ]
  },
  {
   "cell_type": "markdown",
   "metadata": {},
   "source": [
    "67) Import the `math` library"
   ]
  },
  {
   "cell_type": "code",
   "execution_count": 157,
   "metadata": {},
   "outputs": [],
   "source": [
    "import math"
   ]
  },
  {
   "cell_type": "markdown",
   "metadata": {},
   "source": [
    "68) The `math` library has a lot of cool stuff in it. For this problem, evaluate the following math expressions:"
   ]
  },
  {
   "cell_type": "markdown",
   "metadata": {},
   "source": [
    "a) $\\sin{\\frac{\\pi}{2}}$"
   ]
  },
  {
   "cell_type": "code",
   "execution_count": 164,
   "metadata": {},
   "outputs": [
    {
     "data": {
      "text/plain": [
       "1.0"
      ]
     },
     "execution_count": 164,
     "metadata": {},
     "output_type": "execute_result"
    }
   ],
   "source": [
    "math.sin(math.pi/2)"
   ]
  },
  {
   "cell_type": "markdown",
   "metadata": {},
   "source": [
    "b) $\\ln{\\sqrt{e}}$\n",
    "* _Hint:_ A logarithm with base $e$ is represented by just `log` in `math`. In fact, throughout the course, $\\log$ with no subscript will always denote the natural log (ie, log base $e$)."
   ]
  },
  {
   "cell_type": "code",
   "execution_count": 165,
   "metadata": {},
   "outputs": [
    {
     "data": {
      "text/plain": [
       "1.0"
      ]
     },
     "execution_count": 165,
     "metadata": {},
     "output_type": "execute_result"
    }
   ],
   "source": [
    "math.log(math.e)"
   ]
  },
  {
   "cell_type": "markdown",
   "metadata": {},
   "source": [
    "c) $e^{3}$"
   ]
  },
  {
   "cell_type": "code",
   "execution_count": 168,
   "metadata": {},
   "outputs": [
    {
     "data": {
      "text/plain": [
       "20.085536923187664"
      ]
     },
     "execution_count": 168,
     "metadata": {},
     "output_type": "execute_result"
    }
   ],
   "source": [
    "math.e ** 3"
   ]
  },
  {
   "cell_type": "markdown",
   "metadata": {},
   "source": [
    "69) Two popular math functions are the \"round up\" and \"round down\" functions. In computer science, we call them the \"ceiling\" and \"floor\" functions. They're used and denoted as follows:\n",
    "\n",
    "* `ceil(3.8)` $= \\lceil 3.8 \\rceil = 4$\n",
    "* `ceil(3.2)` $= \\lceil 3.2 \\rceil = 4$\n",
    "* `floor(3.8)` $= \\lfloor 3.8 \\rfloor = 3$\n",
    "* `floor(3.2)` $= \\lfloor 3.2 \\rfloor = 3$\n",
    "\n",
    "We _only_ need these two functions out of the `math` library. Use an `import` statement to import _only_ thees two functions and verify the above examples are true."
   ]
  },
  {
   "cell_type": "code",
   "execution_count": 170,
   "metadata": {},
   "outputs": [],
   "source": [
    "from math import ceil, floor"
   ]
  },
  {
   "cell_type": "markdown",
   "metadata": {},
   "source": [
    "70) We can also _alias_ library names if they're too long and we will be using them often. As we will do many times in this course, import the following three libraries:\n",
    "\n",
    "* Import the `numpy` library, aliasing it as `np`\n",
    "* Import the `pandas` library, aliasing it as `pd`\n",
    "* Import the `matplotlib.pyplot` library and submodule, aliasing it as `plt`"
   ]
  },
  {
   "cell_type": "code",
   "execution_count": 171,
   "metadata": {},
   "outputs": [],
   "source": [
    "import numpy as np \n",
    "import pandas as pd \n",
    "import matplotlib.pyplot as plt"
   ]
  },
  {
   "cell_type": "markdown",
   "metadata": {},
   "source": [
    "71) You can also import everything from a library all at once without needing to prefix it:\n",
    "\n",
    "`from math import *`\n",
    "\n",
    "For this question your task is: _never, **ever**_ do this."
   ]
  }
 ],
 "metadata": {
  "kernelspec": {
   "display_name": "Python 3",
   "language": "python",
   "name": "python3"
  },
  "language_info": {
   "codemirror_mode": {
    "name": "ipython",
    "version": 3
   },
   "file_extension": ".py",
   "mimetype": "text/x-python",
   "name": "python",
   "nbconvert_exporter": "python",
   "pygments_lexer": "ipython3",
   "version": "3.8.3"
  }
 },
 "nbformat": 4,
 "nbformat_minor": 2
}
